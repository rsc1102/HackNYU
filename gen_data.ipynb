{
 "cells": [
  {
   "cell_type": "code",
   "execution_count": 47,
   "metadata": {},
   "outputs": [],
   "source": [
    "from data import *"
   ]
  },
  {
   "cell_type": "code",
   "execution_count": null,
   "metadata": {},
   "outputs": [
    {
     "name": "stdout",
     "output_type": "stream",
     "text": [
      "None\n"
     ]
    }
   ],
   "source": [
    "customer = {\n",
    "    'first_name': 'Smart',\n",
    "    'last_name': 'Spend',\n",
    "    'address': {\n",
    "        'street_name': 'Main St',\n",
    "        'sreet_number': '123',\n",
    "        'city': 'Brooklyn',\n",
    "        'state': 'NY',\n",
    "        'zip': '10001'\n",
    "    }\n",
    "}\n",
    "response = create_customer(customer)\n",
    "print(response.json())\n"
   ]
  },
  {
   "cell_type": "code",
   "execution_count": 11,
   "metadata": {},
   "outputs": [
    {
     "data": {
      "text/plain": [
       "[{'_id': '67a798af9683f20dd518bbf2',\n",
       "  'first_name': 'rudra',\n",
       "  'last_name': 'raut',\n",
       "  'address': {'street_number': 'Jay St',\n",
       "   'street_name': 'Jay St',\n",
       "   'city': 'Brooklyn',\n",
       "   'state': 'NY',\n",
       "   'zip': '11201'}},\n",
       " {'_id': '67a799009683f20dd518bbf3',\n",
       "  'first_name': 'Kenneth',\n",
       "  'last_name': 'Murphy',\n",
       "  'address': {'street_number': 'Jay St',\n",
       "   'street_name': 'Jay St',\n",
       "   'city': 'Brooklyn',\n",
       "   'state': 'NY',\n",
       "   'zip': '11201'}},\n",
       " {'_id': '67a7c28c9683f20dd518bd44',\n",
       "  'first_name': 'John',\n",
       "  'last_name': 'Doe',\n",
       "  'address': {'street_number': 'Jay St',\n",
       "   'street_name': 'Jay St',\n",
       "   'city': 'Brooklyn',\n",
       "   'state': 'NY',\n",
       "   'zip': '11201'}},\n",
       " {'_id': '67a7c2999683f20dd518bd45',\n",
       "  'first_name': 'John',\n",
       "  'last_name': 'Doe',\n",
       "  'address': {'street_number': 'Jay St',\n",
       "   'street_name': 'Jay St',\n",
       "   'city': 'Brooklyn',\n",
       "   'state': 'NY',\n",
       "   'zip': '11201'}},\n",
       " {'_id': '67a7d1eb9683f20dd518bd67',\n",
       "  'first_name': 'Smart',\n",
       "  'last_name': 'Spend',\n",
       "  'address': {'street_number': '123',\n",
       "   'street_name': 'Main St',\n",
       "   'city': 'Brooklyn',\n",
       "   'state': 'NY',\n",
       "   'zip': '11217'}}]"
      ]
     },
     "execution_count": 11,
     "metadata": {},
     "output_type": "execute_result"
    }
   ],
   "source": [
    "get_all_customers()"
   ]
  },
  {
   "cell_type": "code",
   "execution_count": 19,
   "metadata": {},
   "outputs": [
    {
     "name": "stdout",
     "output_type": "stream",
     "text": [
      "Unexpected exception formatting exception. Falling back to standard exception\n"
     ]
    },
    {
     "name": "stderr",
     "output_type": "stream",
     "text": [
      "Traceback (most recent call last):\n",
      "  File \"/Users/rushipardeshi/Documents/projects/hack_env/lib/python3.9/site-packages/IPython/core/interactiveshell.py\", line 3550, in run_code\n",
      "    exec(code_obj, self.user_global_ns, self.user_ns)\n",
      "  File \"/var/folders/2r/d6k3pd0j63z7q85qrsr4r7lc0000gn/T/ipykernel_47789/1832992685.py\", line 25, in <module>\n",
      "    print(create_merchant(merchant))\n",
      "  File \"/Users/rushipardeshi/Documents/projects/HackNYU/data.py\", line 93, in create_merchant\n",
      "TypeError: cannot unpack non-iterable NoneType object\n",
      "\n",
      "During handling of the above exception, another exception occurred:\n",
      "\n",
      "Traceback (most recent call last):\n",
      "  File \"/Users/rushipardeshi/Documents/projects/hack_env/lib/python3.9/site-packages/IPython/core/interactiveshell.py\", line 2144, in showtraceback\n",
      "    stb = self.InteractiveTB.structured_traceback(\n",
      "  File \"/Users/rushipardeshi/Documents/projects/hack_env/lib/python3.9/site-packages/IPython/core/ultratb.py\", line 1435, in structured_traceback\n",
      "    return FormattedTB.structured_traceback(\n",
      "  File \"/Users/rushipardeshi/Documents/projects/hack_env/lib/python3.9/site-packages/IPython/core/ultratb.py\", line 1326, in structured_traceback\n",
      "    return VerboseTB.structured_traceback(\n",
      "  File \"/Users/rushipardeshi/Documents/projects/hack_env/lib/python3.9/site-packages/IPython/core/ultratb.py\", line 1173, in structured_traceback\n",
      "    formatted_exception = self.format_exception_as_a_whole(etype, evalue, etb, number_of_lines_of_context,\n",
      "  File \"/Users/rushipardeshi/Documents/projects/hack_env/lib/python3.9/site-packages/IPython/core/ultratb.py\", line 1088, in format_exception_as_a_whole\n",
      "    frames.append(self.format_record(record))\n",
      "  File \"/Users/rushipardeshi/Documents/projects/hack_env/lib/python3.9/site-packages/IPython/core/ultratb.py\", line 970, in format_record\n",
      "    frame_info.lines, Colors, self.has_colors, lvals\n",
      "  File \"/Users/rushipardeshi/Documents/projects/hack_env/lib/python3.9/site-packages/IPython/core/ultratb.py\", line 792, in lines\n",
      "    return self._sd.lines\n",
      "  File \"/Users/rushipardeshi/Documents/projects/hack_env/lib/python3.9/site-packages/stack_data/utils.py\", line 145, in cached_property_wrapper\n",
      "    value = obj.__dict__[self.func.__name__] = self.func(obj)\n",
      "  File \"/Users/rushipardeshi/Documents/projects/hack_env/lib/python3.9/site-packages/stack_data/core.py\", line 734, in lines\n",
      "    pieces = self.included_pieces\n",
      "  File \"/Users/rushipardeshi/Documents/projects/hack_env/lib/python3.9/site-packages/stack_data/utils.py\", line 145, in cached_property_wrapper\n",
      "    value = obj.__dict__[self.func.__name__] = self.func(obj)\n",
      "  File \"/Users/rushipardeshi/Documents/projects/hack_env/lib/python3.9/site-packages/stack_data/core.py\", line 681, in included_pieces\n",
      "    pos = scope_pieces.index(self.executing_piece)\n",
      "  File \"/Users/rushipardeshi/Documents/projects/hack_env/lib/python3.9/site-packages/stack_data/utils.py\", line 145, in cached_property_wrapper\n",
      "    value = obj.__dict__[self.func.__name__] = self.func(obj)\n",
      "  File \"/Users/rushipardeshi/Documents/projects/hack_env/lib/python3.9/site-packages/stack_data/core.py\", line 660, in executing_piece\n",
      "    return only(\n",
      "  File \"/Users/rushipardeshi/Documents/projects/hack_env/lib/python3.9/site-packages/executing/executing.py\", line 116, in only\n",
      "    raise NotOneValueFound('Expected one value, found 0')\n",
      "executing.executing.NotOneValueFound: Expected one value, found 0\n"
     ]
    }
   ],
   "source": [
    "from faker import Faker\n",
    "\n",
    "# Initialize the Faker object\n",
    "fake = Faker()\n",
    "\n",
    "first_name = fake.first_name()\n",
    "last_name = fake.last_name()\n",
    "address = fake.address().split('\\n')\n",
    "street_address = address[0]\n",
    "city_state_zip = address[1].split(',')\n",
    "city = city_state_zip[0].strip()\n",
    "state_zip = city_state_zip[1].strip().split(' ')\n",
    "state = state_zip[0]\n",
    "zipcode = fake['en-US'].zipcode()\n",
    "\n",
    "merchant = {\n",
    "    \"name\": first_name + \" \" + last_name,\n",
    "    \"address\": {\n",
    "        \"street_name\": street_address,\n",
    "        \"city\": city,\n",
    "        \"state\": state,\n",
    "        \"zip\": zipcode\n",
    "    }\n",
    "}\n",
    "print(create_merchant(merchant))"
   ]
  },
  {
   "cell_type": "code",
   "execution_count": 58,
   "metadata": {},
   "outputs": [
    {
     "name": "stdout",
     "output_type": "stream",
     "text": [
      "{'code': 201, 'message': 'Account created', 'objectCreated': {'type': 'Checking', 'rewards': 9, 'balance': 9067, 'nickname': 'smartspender', 'customer_id': '67a7d1eb9683f20dd518bd67', '_id': '67a7e8da9683f20dd518bdf2'}}\n"
     ]
    }
   ],
   "source": [
    "import random\n",
    "types = [\"Savings\", \"Checking\", \"Credit\"]\n",
    "rewards = random.randint(0,100)\n",
    "balances = random.randint(100, 10000)\n",
    "\n",
    "nickname = \"smartspender\"\n",
    "\n",
    "account = {\n",
    "    \"type\": random.choice(types),\n",
    "    \"rewards\": rewards,\n",
    "    \"balance\": balances,\n",
    "    \"nickname\": nickname,\n",
    "}\n",
    "print(create_account(\"67a7d1eb9683f20dd518bd67\", account))"
   ]
  },
  {
   "cell_type": "code",
   "execution_count": null,
   "metadata": {},
   "outputs": [
    {
     "name": "stdout",
     "output_type": "stream",
     "text": [
      "{'message': 'Created purchase and added it to the account', 'code': 201, 'objectCreated': {'merchant_id': '67a7d8fd9683f20dd518bd78', 'medium': 'balance', 'purchase_date': '2024-03-05T11:11:38.800554', 'amount': 22, 'status': 'pending', 'description': 'shoes', 'type': 'merchant', 'payer_id': '67a7e8da9683f20dd518bdf2', '_id': '67a7eacb9683f20dd518bdf6'}}\n",
      "{'message': 'Created purchase and added it to the account', 'code': 201, 'objectCreated': {'merchant_id': '67a7d8fd9683f20dd518bd78', 'medium': 'balance', 'purchase_date': '2024-03-01T20:13:38.071976', 'amount': 47, 'status': 'pending', 'description': 'entertainment', 'type': 'merchant', 'payer_id': '67a7e8da9683f20dd518bdf2', '_id': '67a7eacc9683f20dd518bdf7'}}\n",
      "{'message': 'Created purchase and added it to the account', 'code': 201, 'objectCreated': {'merchant_id': '67a7d8fd9683f20dd518bd78', 'medium': 'balance', 'purchase_date': '2024-10-02T10:24:34.717912', 'amount': 3, 'status': 'pending', 'description': 'other', 'type': 'merchant', 'payer_id': '67a7e8da9683f20dd518bdf2', '_id': '67a7eacc9683f20dd518bdf8'}}\n",
      "{'message': 'Created purchase and added it to the account', 'code': 201, 'objectCreated': {'merchant_id': '67a7d8fd9683f20dd518bd78', 'medium': 'balance', 'purchase_date': '2024-08-01T14:40:26.654973', 'amount': 2, 'status': 'pending', 'description': 'entertainment', 'type': 'merchant', 'payer_id': '67a7e8da9683f20dd518bdf2', '_id': '67a7eacc9683f20dd518bdf9'}}\n",
      "{'message': 'Created purchase and added it to the account', 'code': 201, 'objectCreated': {'merchant_id': '67a7d8fd9683f20dd518bd78', 'medium': 'balance', 'purchase_date': '2024-03-22T06:49:04.098993', 'amount': 31, 'status': 'pending', 'description': 'entertainment', 'type': 'merchant', 'payer_id': '67a7e8da9683f20dd518bdf2', '_id': '67a7eacc9683f20dd518bdfa'}}\n",
      "{'message': 'Created purchase and added it to the account', 'code': 201, 'objectCreated': {'merchant_id': '67a7d8fd9683f20dd518bd78', 'medium': 'balance', 'purchase_date': '2024-08-15T12:03:46.622660', 'amount': 1, 'status': 'pending', 'description': 'entertainment', 'type': 'merchant', 'payer_id': '67a7e8da9683f20dd518bdf2', '_id': '67a7eacc9683f20dd518bdfb'}}\n",
      "{'message': 'Created purchase and added it to the account', 'code': 201, 'objectCreated': {'merchant_id': '67a7d8fd9683f20dd518bd78', 'medium': 'balance', 'purchase_date': '2024-11-22T08:18:30.148374', 'amount': 39, 'status': 'pending', 'description': 'food', 'type': 'merchant', 'payer_id': '67a7e8da9683f20dd518bdf2', '_id': '67a7eacc9683f20dd518bdfc'}}\n",
      "{'message': 'Created purchase and added it to the account', 'code': 201, 'objectCreated': {'merchant_id': '67a7d8fd9683f20dd518bd78', 'medium': 'balance', 'purchase_date': '2024-06-21T21:32:06.695180', 'amount': 31, 'status': 'pending', 'description': 'clothing', 'type': 'merchant', 'payer_id': '67a7e8da9683f20dd518bdf2', '_id': '67a7eacd9683f20dd518bdfd'}}\n",
      "{'message': 'Created purchase and added it to the account', 'code': 201, 'objectCreated': {'merchant_id': '67a7d8fd9683f20dd518bd78', 'medium': 'balance', 'purchase_date': '2024-03-04T09:49:33.404779', 'amount': 27, 'status': 'pending', 'description': 'clothing', 'type': 'merchant', 'payer_id': '67a7e8da9683f20dd518bdf2', '_id': '67a7eacd9683f20dd518bdfe'}}\n",
      "{'message': 'Created purchase and added it to the account', 'code': 201, 'objectCreated': {'merchant_id': '67a7d8fd9683f20dd518bd78', 'medium': 'balance', 'purchase_date': '2024-04-11T14:59:59.008832', 'amount': 42, 'status': 'pending', 'description': 'clothing', 'type': 'merchant', 'payer_id': '67a7e8da9683f20dd518bdf2', '_id': '67a7eacd9683f20dd518bdff'}}\n",
      "{'message': 'Created purchase and added it to the account', 'code': 201, 'objectCreated': {'merchant_id': '67a7d8fd9683f20dd518bd78', 'medium': 'balance', 'purchase_date': '2025-02-06T06:56:25.428624', 'amount': 39, 'status': 'pending', 'description': 'clothing', 'type': 'merchant', 'payer_id': '67a7e8da9683f20dd518bdf2', '_id': '67a7eacd9683f20dd518be00'}}\n",
      "{'message': 'Created purchase and added it to the account', 'code': 201, 'objectCreated': {'merchant_id': '67a7d8fd9683f20dd518bd78', 'medium': 'balance', 'purchase_date': '2024-04-26T19:02:38.786423', 'amount': 13, 'status': 'pending', 'description': 'entertainment', 'type': 'merchant', 'payer_id': '67a7e8da9683f20dd518bdf2', '_id': '67a7eacd9683f20dd518be01'}}\n",
      "{'message': 'Created purchase and added it to the account', 'code': 201, 'objectCreated': {'merchant_id': '67a7d8fd9683f20dd518bd78', 'medium': 'balance', 'purchase_date': '2024-02-13T21:54:39.805981', 'amount': 20, 'status': 'pending', 'description': 'electronics', 'type': 'merchant', 'payer_id': '67a7e8da9683f20dd518bdf2', '_id': '67a7eacd9683f20dd518be02'}}\n",
      "{'message': 'Created purchase and added it to the account', 'code': 201, 'objectCreated': {'merchant_id': '67a7d8fd9683f20dd518bd78', 'medium': 'balance', 'purchase_date': '2024-12-19T13:15:06.125226', 'amount': 15, 'status': 'pending', 'description': 'electronics', 'type': 'merchant', 'payer_id': '67a7e8da9683f20dd518bdf2', '_id': '67a7eace9683f20dd518be03'}}\n",
      "{'message': 'Created purchase and added it to the account', 'code': 201, 'objectCreated': {'merchant_id': '67a7d8fd9683f20dd518bd78', 'medium': 'balance', 'purchase_date': '2025-01-03T05:57:21.002023', 'amount': 1, 'status': 'pending', 'description': 'food', 'type': 'merchant', 'payer_id': '67a7e8da9683f20dd518bdf2', '_id': '67a7ead09683f20dd518be04'}}\n",
      "{'message': 'Created purchase and added it to the account', 'code': 201, 'objectCreated': {'merchant_id': '67a7d8fd9683f20dd518bd78', 'medium': 'balance', 'purchase_date': '2024-08-17T22:06:59.504803', 'amount': 36, 'status': 'pending', 'description': 'entertainment', 'type': 'merchant', 'payer_id': '67a7e8da9683f20dd518bdf2', '_id': '67a7ead09683f20dd518be05'}}\n",
      "{'message': 'Created purchase and added it to the account', 'code': 201, 'objectCreated': {'merchant_id': '67a7d8fd9683f20dd518bd78', 'medium': 'balance', 'purchase_date': '2024-04-11T20:59:42.472005', 'amount': 34, 'status': 'pending', 'description': 'electronics', 'type': 'merchant', 'payer_id': '67a7e8da9683f20dd518bdf2', '_id': '67a7ead09683f20dd518be06'}}\n",
      "{'message': 'Created purchase and added it to the account', 'code': 201, 'objectCreated': {'merchant_id': '67a7d8fd9683f20dd518bd78', 'medium': 'balance', 'purchase_date': '2024-08-26T17:27:21.436828', 'amount': 36, 'status': 'pending', 'description': 'food', 'type': 'merchant', 'payer_id': '67a7e8da9683f20dd518bdf2', '_id': '67a7ead09683f20dd518be07'}}\n",
      "{'message': 'Created purchase and added it to the account', 'code': 201, 'objectCreated': {'merchant_id': '67a7d8fd9683f20dd518bd78', 'medium': 'balance', 'purchase_date': '2024-06-19T01:34:21.297267', 'amount': 10, 'status': 'pending', 'description': 'food', 'type': 'merchant', 'payer_id': '67a7e8da9683f20dd518bdf2', '_id': '67a7ead09683f20dd518be08'}}\n",
      "{'message': 'Created purchase and added it to the account', 'code': 201, 'objectCreated': {'merchant_id': '67a7d8fd9683f20dd518bd78', 'medium': 'balance', 'purchase_date': '2024-06-13T05:16:32.430734', 'amount': 41, 'status': 'pending', 'description': 'other', 'type': 'merchant', 'payer_id': '67a7e8da9683f20dd518bdf2', '_id': '67a7ead09683f20dd518be09'}}\n",
      "{'message': 'Created purchase and added it to the account', 'code': 201, 'objectCreated': {'merchant_id': '67a7d8fd9683f20dd518bd78', 'medium': 'balance', 'purchase_date': '2024-07-16T07:06:40.962828', 'amount': 37, 'status': 'pending', 'description': 'electronics', 'type': 'merchant', 'payer_id': '67a7e8da9683f20dd518bdf2', '_id': '67a7ead09683f20dd518be0a'}}\n",
      "{'message': 'Created purchase and added it to the account', 'code': 201, 'objectCreated': {'merchant_id': '67a7d8fd9683f20dd518bd78', 'medium': 'balance', 'purchase_date': '2024-04-02T15:51:56.081915', 'amount': 24, 'status': 'pending', 'description': 'shoes', 'type': 'merchant', 'payer_id': '67a7e8da9683f20dd518bdf2', '_id': '67a7ead09683f20dd518be0b'}}\n",
      "{'message': 'Created purchase and added it to the account', 'code': 201, 'objectCreated': {'merchant_id': '67a7d8fd9683f20dd518bd78', 'medium': 'balance', 'purchase_date': '2024-10-31T02:39:13.766547', 'amount': 49, 'status': 'pending', 'description': 'other', 'type': 'merchant', 'payer_id': '67a7e8da9683f20dd518bdf2', '_id': '67a7ead09683f20dd518be0c'}}\n",
      "{'message': 'Created purchase and added it to the account', 'code': 201, 'objectCreated': {'merchant_id': '67a7d8fd9683f20dd518bd78', 'medium': 'balance', 'purchase_date': '2024-06-05T05:09:19.182270', 'amount': 9, 'status': 'pending', 'description': 'shoes', 'type': 'merchant', 'payer_id': '67a7e8da9683f20dd518bdf2', '_id': '67a7ead09683f20dd518be0d'}}\n",
      "{'message': 'Created purchase and added it to the account', 'code': 201, 'objectCreated': {'merchant_id': '67a7d8fd9683f20dd518bd78', 'medium': 'balance', 'purchase_date': '2024-09-12T14:21:22.761482', 'amount': 10, 'status': 'pending', 'description': 'food', 'type': 'merchant', 'payer_id': '67a7e8da9683f20dd518bdf2', '_id': '67a7ead09683f20dd518be0e'}}\n",
      "{'message': 'Created purchase and added it to the account', 'code': 201, 'objectCreated': {'merchant_id': '67a7d8fd9683f20dd518bd78', 'medium': 'balance', 'purchase_date': '2024-08-04T01:09:12.537224', 'amount': 27, 'status': 'pending', 'description': 'clothing', 'type': 'merchant', 'payer_id': '67a7e8da9683f20dd518bdf2', '_id': '67a7ead09683f20dd518be0f'}}\n",
      "{'message': 'Created purchase and added it to the account', 'code': 201, 'objectCreated': {'merchant_id': '67a7d8fd9683f20dd518bd78', 'medium': 'balance', 'purchase_date': '2024-12-07T08:11:34.625579', 'amount': 45, 'status': 'pending', 'description': 'electronics', 'type': 'merchant', 'payer_id': '67a7e8da9683f20dd518bdf2', '_id': '67a7ead09683f20dd518be10'}}\n",
      "{'message': 'Created purchase and added it to the account', 'code': 201, 'objectCreated': {'merchant_id': '67a7d8fd9683f20dd518bd78', 'medium': 'balance', 'purchase_date': '2024-08-06T19:15:45.753380', 'amount': 7, 'status': 'pending', 'description': 'food', 'type': 'merchant', 'payer_id': '67a7e8da9683f20dd518bdf2', '_id': '67a7ead09683f20dd518be11'}}\n",
      "{'message': 'Created purchase and added it to the account', 'code': 201, 'objectCreated': {'merchant_id': '67a7d8fd9683f20dd518bd78', 'medium': 'balance', 'purchase_date': '2025-01-04T04:49:35.405579', 'amount': 15, 'status': 'pending', 'description': 'electronics', 'type': 'merchant', 'payer_id': '67a7e8da9683f20dd518bdf2', '_id': '67a7ead09683f20dd518be12'}}\n",
      "{'message': 'Created purchase and added it to the account', 'code': 201, 'objectCreated': {'merchant_id': '67a7d8fd9683f20dd518bd78', 'medium': 'balance', 'purchase_date': '2024-12-15T12:45:00.151631', 'amount': 24, 'status': 'pending', 'description': 'food', 'type': 'merchant', 'payer_id': '67a7e8da9683f20dd518bdf2', '_id': '67a7ead19683f20dd518be13'}}\n",
      "{'message': 'Created purchase and added it to the account', 'code': 201, 'objectCreated': {'merchant_id': '67a7d8fd9683f20dd518bd78', 'medium': 'balance', 'purchase_date': '2024-08-01T15:06:20.792120', 'amount': 27, 'status': 'pending', 'description': 'entertainment', 'type': 'merchant', 'payer_id': '67a7e8da9683f20dd518bdf2', '_id': '67a7ead19683f20dd518be14'}}\n",
      "{'message': 'Created purchase and added it to the account', 'code': 201, 'objectCreated': {'merchant_id': '67a7d8fd9683f20dd518bd78', 'medium': 'balance', 'purchase_date': '2025-01-28T17:40:27.252421', 'amount': 50, 'status': 'pending', 'description': 'shoes', 'type': 'merchant', 'payer_id': '67a7e8da9683f20dd518bdf2', '_id': '67a7ead19683f20dd518be15'}}\n",
      "{'message': 'Created purchase and added it to the account', 'code': 201, 'objectCreated': {'merchant_id': '67a7d8fd9683f20dd518bd78', 'medium': 'balance', 'purchase_date': '2024-10-12T10:33:44.149987', 'amount': 42, 'status': 'pending', 'description': 'other', 'type': 'merchant', 'payer_id': '67a7e8da9683f20dd518bdf2', '_id': '67a7ead19683f20dd518be16'}}\n",
      "{'message': 'Created purchase and added it to the account', 'code': 201, 'objectCreated': {'merchant_id': '67a7d8fd9683f20dd518bd78', 'medium': 'balance', 'purchase_date': '2024-03-10T03:31:40.513455', 'amount': 27, 'status': 'pending', 'description': 'clothing', 'type': 'merchant', 'payer_id': '67a7e8da9683f20dd518bdf2', '_id': '67a7ead19683f20dd518be17'}}\n",
      "{'message': 'Created purchase and added it to the account', 'code': 201, 'objectCreated': {'merchant_id': '67a7d8fd9683f20dd518bd78', 'medium': 'balance', 'purchase_date': '2025-01-20T13:48:52.965715', 'amount': 43, 'status': 'pending', 'description': 'entertainment', 'type': 'merchant', 'payer_id': '67a7e8da9683f20dd518bdf2', '_id': '67a7ead19683f20dd518be18'}}\n",
      "{'message': 'Created purchase and added it to the account', 'code': 201, 'objectCreated': {'merchant_id': '67a7d8fd9683f20dd518bd78', 'medium': 'balance', 'purchase_date': '2024-11-08T11:00:18.186359', 'amount': 9, 'status': 'pending', 'description': 'clothing', 'type': 'merchant', 'payer_id': '67a7e8da9683f20dd518bdf2', '_id': '67a7ead19683f20dd518be19'}}\n",
      "{'message': 'Created purchase and added it to the account', 'code': 201, 'objectCreated': {'merchant_id': '67a7d8fd9683f20dd518bd78', 'medium': 'balance', 'purchase_date': '2024-10-09T03:36:03.588816', 'amount': 29, 'status': 'pending', 'description': 'other', 'type': 'merchant', 'payer_id': '67a7e8da9683f20dd518bdf2', '_id': '67a7ead19683f20dd518be1a'}}\n",
      "{'message': 'Created purchase and added it to the account', 'code': 201, 'objectCreated': {'merchant_id': '67a7d8fd9683f20dd518bd78', 'medium': 'balance', 'purchase_date': '2024-06-21T12:11:44.051381', 'amount': 5, 'status': 'pending', 'description': 'electronics', 'type': 'merchant', 'payer_id': '67a7e8da9683f20dd518bdf2', '_id': '67a7ead19683f20dd518be1b'}}\n",
      "{'message': 'Created purchase and added it to the account', 'code': 201, 'objectCreated': {'merchant_id': '67a7d8fd9683f20dd518bd78', 'medium': 'balance', 'purchase_date': '2024-08-23T16:25:15.873753', 'amount': 25, 'status': 'pending', 'description': 'food', 'type': 'merchant', 'payer_id': '67a7e8da9683f20dd518bdf2', '_id': '67a7ead19683f20dd518be1c'}}\n",
      "{'message': 'Created purchase and added it to the account', 'code': 201, 'objectCreated': {'merchant_id': '67a7d8fd9683f20dd518bd78', 'medium': 'balance', 'purchase_date': '2025-02-03T22:03:28.730128', 'amount': 2, 'status': 'pending', 'description': 'food', 'type': 'merchant', 'payer_id': '67a7e8da9683f20dd518bdf2', '_id': '67a7ead19683f20dd518be1d'}}\n",
      "{'message': 'Created purchase and added it to the account', 'code': 201, 'objectCreated': {'merchant_id': '67a7d8fd9683f20dd518bd78', 'medium': 'balance', 'purchase_date': '2024-06-26T06:00:17.669090', 'amount': 15, 'status': 'pending', 'description': 'entertainment', 'type': 'merchant', 'payer_id': '67a7e8da9683f20dd518bdf2', '_id': '67a7ead19683f20dd518be1e'}}\n",
      "{'message': 'Created purchase and added it to the account', 'code': 201, 'objectCreated': {'merchant_id': '67a7d8fd9683f20dd518bd78', 'medium': 'balance', 'purchase_date': '2025-01-02T03:15:15.129510', 'amount': 35, 'status': 'pending', 'description': 'clothing', 'type': 'merchant', 'payer_id': '67a7e8da9683f20dd518bdf2', '_id': '67a7ead19683f20dd518be1f'}}\n",
      "{'message': 'Created purchase and added it to the account', 'code': 201, 'objectCreated': {'merchant_id': '67a7d8fd9683f20dd518bd78', 'medium': 'balance', 'purchase_date': '2024-03-25T10:19:28.098783', 'amount': 4, 'status': 'pending', 'description': 'clothing', 'type': 'merchant', 'payer_id': '67a7e8da9683f20dd518bdf2', '_id': '67a7ead19683f20dd518be20'}}\n",
      "{'message': 'Created purchase and added it to the account', 'code': 201, 'objectCreated': {'merchant_id': '67a7d8fd9683f20dd518bd78', 'medium': 'balance', 'purchase_date': '2024-03-14T23:16:29.760249', 'amount': 34, 'status': 'pending', 'description': 'entertainment', 'type': 'merchant', 'payer_id': '67a7e8da9683f20dd518bdf2', '_id': '67a7ead19683f20dd518be21'}}\n",
      "{'message': 'Created purchase and added it to the account', 'code': 201, 'objectCreated': {'merchant_id': '67a7d8fd9683f20dd518bd78', 'medium': 'balance', 'purchase_date': '2024-11-25T22:23:31.779906', 'amount': 48, 'status': 'pending', 'description': 'entertainment', 'type': 'merchant', 'payer_id': '67a7e8da9683f20dd518bdf2', '_id': '67a7ead19683f20dd518be22'}}\n",
      "{'message': 'Created purchase and added it to the account', 'code': 201, 'objectCreated': {'merchant_id': '67a7d8fd9683f20dd518bd78', 'medium': 'balance', 'purchase_date': '2024-05-17T14:57:52.779403', 'amount': 10, 'status': 'pending', 'description': 'other', 'type': 'merchant', 'payer_id': '67a7e8da9683f20dd518bdf2', '_id': '67a7ead19683f20dd518be23'}}\n",
      "{'message': 'Created purchase and added it to the account', 'code': 201, 'objectCreated': {'merchant_id': '67a7d8fd9683f20dd518bd78', 'medium': 'balance', 'purchase_date': '2025-01-20T22:46:11.737422', 'amount': 24, 'status': 'pending', 'description': 'shoes', 'type': 'merchant', 'payer_id': '67a7e8da9683f20dd518bdf2', '_id': '67a7ead19683f20dd518be24'}}\n",
      "{'message': 'Created purchase and added it to the account', 'code': 201, 'objectCreated': {'merchant_id': '67a7d8fd9683f20dd518bd78', 'medium': 'balance', 'purchase_date': '2024-03-15T05:13:13.370387', 'amount': 4, 'status': 'pending', 'description': 'shoes', 'type': 'merchant', 'payer_id': '67a7e8da9683f20dd518bdf2', '_id': '67a7ead29683f20dd518be25'}}\n",
      "{'message': 'Created purchase and added it to the account', 'code': 201, 'objectCreated': {'merchant_id': '67a7d8fd9683f20dd518bd78', 'medium': 'balance', 'purchase_date': '2024-09-01T00:33:20.511117', 'amount': 16, 'status': 'pending', 'description': 'other', 'type': 'merchant', 'payer_id': '67a7e8da9683f20dd518bdf2', '_id': '67a7ead29683f20dd518be26'}}\n",
      "{'message': 'Created purchase and added it to the account', 'code': 201, 'objectCreated': {'merchant_id': '67a7d8fd9683f20dd518bd78', 'medium': 'balance', 'purchase_date': '2024-12-22T01:04:58.134364', 'amount': 23, 'status': 'pending', 'description': 'entertainment', 'type': 'merchant', 'payer_id': '67a7e8da9683f20dd518bdf2', '_id': '67a7ead29683f20dd518be27'}}\n",
      "{'message': 'Created purchase and added it to the account', 'code': 201, 'objectCreated': {'merchant_id': '67a7d8fd9683f20dd518bd78', 'medium': 'balance', 'purchase_date': '2024-06-29T10:16:30.648054', 'amount': 47, 'status': 'pending', 'description': 'electronics', 'type': 'merchant', 'payer_id': '67a7e8da9683f20dd518bdf2', '_id': '67a7ead29683f20dd518be28'}}\n",
      "{'message': 'Created purchase and added it to the account', 'code': 201, 'objectCreated': {'merchant_id': '67a7d8fd9683f20dd518bd78', 'medium': 'balance', 'purchase_date': '2024-12-09T18:19:58.619667', 'amount': 37, 'status': 'pending', 'description': 'clothing', 'type': 'merchant', 'payer_id': '67a7e8da9683f20dd518bdf2', '_id': '67a7ead39683f20dd518be29'}}\n",
      "{'message': 'Created purchase and added it to the account', 'code': 201, 'objectCreated': {'merchant_id': '67a7d8fd9683f20dd518bd78', 'medium': 'balance', 'purchase_date': '2024-03-27T23:56:28.345913', 'amount': 21, 'status': 'pending', 'description': 'clothing', 'type': 'merchant', 'payer_id': '67a7e8da9683f20dd518bdf2', '_id': '67a7ead39683f20dd518be2a'}}\n",
      "{'message': 'Created purchase and added it to the account', 'code': 201, 'objectCreated': {'merchant_id': '67a7d8fd9683f20dd518bd78', 'medium': 'balance', 'purchase_date': '2024-03-31T15:23:35.133990', 'amount': 38, 'status': 'pending', 'description': 'other', 'type': 'merchant', 'payer_id': '67a7e8da9683f20dd518bdf2', '_id': '67a7ead39683f20dd518be2b'}}\n",
      "{'message': 'Created purchase and added it to the account', 'code': 201, 'objectCreated': {'merchant_id': '67a7d8fd9683f20dd518bd78', 'medium': 'balance', 'purchase_date': '2024-03-31T08:54:42.639661', 'amount': 4, 'status': 'pending', 'description': 'other', 'type': 'merchant', 'payer_id': '67a7e8da9683f20dd518bdf2', '_id': '67a7ead49683f20dd518be2c'}}\n",
      "{'message': 'Created purchase and added it to the account', 'code': 201, 'objectCreated': {'merchant_id': '67a7d8fd9683f20dd518bd78', 'medium': 'balance', 'purchase_date': '2024-11-03T09:29:58.750979', 'amount': 9, 'status': 'pending', 'description': 'entertainment', 'type': 'merchant', 'payer_id': '67a7e8da9683f20dd518bdf2', '_id': '67a7ead49683f20dd518be2d'}}\n",
      "{'message': 'Created purchase and added it to the account', 'code': 201, 'objectCreated': {'merchant_id': '67a7d8fd9683f20dd518bd78', 'medium': 'balance', 'purchase_date': '2024-10-09T06:47:32.791767', 'amount': 34, 'status': 'pending', 'description': 'electronics', 'type': 'merchant', 'payer_id': '67a7e8da9683f20dd518bdf2', '_id': '67a7ead49683f20dd518be2e'}}\n",
      "{'message': 'Created purchase and added it to the account', 'code': 201, 'objectCreated': {'merchant_id': '67a7d8fd9683f20dd518bd78', 'medium': 'balance', 'purchase_date': '2024-02-23T14:23:13.721325', 'amount': 25, 'status': 'pending', 'description': 'clothing', 'type': 'merchant', 'payer_id': '67a7e8da9683f20dd518bdf2', '_id': '67a7ead59683f20dd518be2f'}}\n",
      "{'message': 'Created purchase and added it to the account', 'code': 201, 'objectCreated': {'merchant_id': '67a7d8fd9683f20dd518bd78', 'medium': 'balance', 'purchase_date': '2024-06-29T10:22:51.484263', 'amount': 37, 'status': 'pending', 'description': 'entertainment', 'type': 'merchant', 'payer_id': '67a7e8da9683f20dd518bdf2', '_id': '67a7ead59683f20dd518be30'}}\n",
      "{'message': 'Created purchase and added it to the account', 'code': 201, 'objectCreated': {'merchant_id': '67a7d8fd9683f20dd518bd78', 'medium': 'balance', 'purchase_date': '2024-11-07T17:14:35.954168', 'amount': 49, 'status': 'pending', 'description': 'electronics', 'type': 'merchant', 'payer_id': '67a7e8da9683f20dd518bdf2', '_id': '67a7ead59683f20dd518be31'}}\n",
      "{'message': 'Created purchase and added it to the account', 'code': 201, 'objectCreated': {'merchant_id': '67a7d8fd9683f20dd518bd78', 'medium': 'balance', 'purchase_date': '2024-06-07T09:55:12.793137', 'amount': 9, 'status': 'pending', 'description': 'other', 'type': 'merchant', 'payer_id': '67a7e8da9683f20dd518bdf2', '_id': '67a7ead69683f20dd518be32'}}\n",
      "{'message': 'Created purchase and added it to the account', 'code': 201, 'objectCreated': {'merchant_id': '67a7d8fd9683f20dd518bd78', 'medium': 'balance', 'purchase_date': '2024-04-06T06:07:28.640441', 'amount': 42, 'status': 'pending', 'description': 'electronics', 'type': 'merchant', 'payer_id': '67a7e8da9683f20dd518bdf2', '_id': '67a7ead69683f20dd518be33'}}\n",
      "{'message': 'Created purchase and added it to the account', 'code': 201, 'objectCreated': {'merchant_id': '67a7d8fd9683f20dd518bd78', 'medium': 'balance', 'purchase_date': '2025-01-10T07:14:20.571536', 'amount': 5, 'status': 'pending', 'description': 'entertainment', 'type': 'merchant', 'payer_id': '67a7e8da9683f20dd518bdf2', '_id': '67a7ead69683f20dd518be34'}}\n",
      "{'message': 'Created purchase and added it to the account', 'code': 201, 'objectCreated': {'merchant_id': '67a7d8fd9683f20dd518bd78', 'medium': 'balance', 'purchase_date': '2024-12-30T12:57:28.112849', 'amount': 36, 'status': 'pending', 'description': 'other', 'type': 'merchant', 'payer_id': '67a7e8da9683f20dd518bdf2', '_id': '67a7ead69683f20dd518be35'}}\n",
      "{'message': 'Created purchase and added it to the account', 'code': 201, 'objectCreated': {'merchant_id': '67a7d8fd9683f20dd518bd78', 'medium': 'balance', 'purchase_date': '2024-11-06T03:22:09.931242', 'amount': 38, 'status': 'pending', 'description': 'shoes', 'type': 'merchant', 'payer_id': '67a7e8da9683f20dd518bdf2', '_id': '67a7ead79683f20dd518be36'}}\n",
      "{'message': 'Created purchase and added it to the account', 'code': 201, 'objectCreated': {'merchant_id': '67a7d8fd9683f20dd518bd78', 'medium': 'balance', 'purchase_date': '2024-09-21T03:17:10.485183', 'amount': 36, 'status': 'pending', 'description': 'clothing', 'type': 'merchant', 'payer_id': '67a7e8da9683f20dd518bdf2', '_id': '67a7ead79683f20dd518be37'}}\n",
      "{'message': 'Created purchase and added it to the account', 'code': 201, 'objectCreated': {'merchant_id': '67a7d8fd9683f20dd518bd78', 'medium': 'balance', 'purchase_date': '2024-09-15T08:02:29.625490', 'amount': 22, 'status': 'pending', 'description': 'shoes', 'type': 'merchant', 'payer_id': '67a7e8da9683f20dd518bdf2', '_id': '67a7ead79683f20dd518be38'}}\n",
      "{'message': 'Created purchase and added it to the account', 'code': 201, 'objectCreated': {'merchant_id': '67a7d8fd9683f20dd518bd78', 'medium': 'balance', 'purchase_date': '2024-05-31T05:23:20.109947', 'amount': 40, 'status': 'pending', 'description': 'electronics', 'type': 'merchant', 'payer_id': '67a7e8da9683f20dd518bdf2', '_id': '67a7ead79683f20dd518be39'}}\n",
      "{'message': 'Created purchase and added it to the account', 'code': 201, 'objectCreated': {'merchant_id': '67a7d8fd9683f20dd518bd78', 'medium': 'balance', 'purchase_date': '2024-10-14T14:25:03.083043', 'amount': 3, 'status': 'pending', 'description': 'shoes', 'type': 'merchant', 'payer_id': '67a7e8da9683f20dd518bdf2', '_id': '67a7ead89683f20dd518be3a'}}\n",
      "{'message': 'Created purchase and added it to the account', 'code': 201, 'objectCreated': {'merchant_id': '67a7d8fd9683f20dd518bd78', 'medium': 'balance', 'purchase_date': '2024-08-27T14:01:31.858102', 'amount': 49, 'status': 'pending', 'description': 'clothing', 'type': 'merchant', 'payer_id': '67a7e8da9683f20dd518bdf2', '_id': '67a7ead89683f20dd518be3b'}}\n",
      "{'message': 'Created purchase and added it to the account', 'code': 201, 'objectCreated': {'merchant_id': '67a7d8fd9683f20dd518bd78', 'medium': 'balance', 'purchase_date': '2024-11-23T09:25:16.055897', 'amount': 44, 'status': 'pending', 'description': 'clothing', 'type': 'merchant', 'payer_id': '67a7e8da9683f20dd518bdf2', '_id': '67a7ead89683f20dd518be3c'}}\n",
      "{'message': 'Created purchase and added it to the account', 'code': 201, 'objectCreated': {'merchant_id': '67a7d8fd9683f20dd518bd78', 'medium': 'balance', 'purchase_date': '2024-11-27T14:20:50.582361', 'amount': 34, 'status': 'pending', 'description': 'other', 'type': 'merchant', 'payer_id': '67a7e8da9683f20dd518bdf2', '_id': '67a7ead89683f20dd518be3d'}}\n",
      "{'message': 'Created purchase and added it to the account', 'code': 201, 'objectCreated': {'merchant_id': '67a7d8fd9683f20dd518bd78', 'medium': 'balance', 'purchase_date': '2024-07-26T11:29:58.010182', 'amount': 7, 'status': 'pending', 'description': 'entertainment', 'type': 'merchant', 'payer_id': '67a7e8da9683f20dd518bdf2', '_id': '67a7ead99683f20dd518be3e'}}\n",
      "{'message': 'Created purchase and added it to the account', 'code': 201, 'objectCreated': {'merchant_id': '67a7d8fd9683f20dd518bd78', 'medium': 'balance', 'purchase_date': '2024-09-02T15:33:17.626711', 'amount': 28, 'status': 'pending', 'description': 'shoes', 'type': 'merchant', 'payer_id': '67a7e8da9683f20dd518bdf2', '_id': '67a7ead99683f20dd518be3f'}}\n",
      "{'message': 'Created purchase and added it to the account', 'code': 201, 'objectCreated': {'merchant_id': '67a7d8fd9683f20dd518bd78', 'medium': 'balance', 'purchase_date': '2024-07-11T07:09:29.749651', 'amount': 25, 'status': 'pending', 'description': 'food', 'type': 'merchant', 'payer_id': '67a7e8da9683f20dd518bdf2', '_id': '67a7ead99683f20dd518be40'}}\n",
      "{'message': 'Created purchase and added it to the account', 'code': 201, 'objectCreated': {'merchant_id': '67a7d8fd9683f20dd518bd78', 'medium': 'balance', 'purchase_date': '2024-04-10T01:06:19.650501', 'amount': 20, 'status': 'pending', 'description': 'shoes', 'type': 'merchant', 'payer_id': '67a7e8da9683f20dd518bdf2', '_id': '67a7ead99683f20dd518be41'}}\n",
      "{'message': 'Created purchase and added it to the account', 'code': 201, 'objectCreated': {'merchant_id': '67a7d8fd9683f20dd518bd78', 'medium': 'balance', 'purchase_date': '2024-06-12T03:12:11.929605', 'amount': 23, 'status': 'pending', 'description': 'food', 'type': 'merchant', 'payer_id': '67a7e8da9683f20dd518bdf2', '_id': '67a7eada9683f20dd518be42'}}\n",
      "{'message': 'Created purchase and added it to the account', 'code': 201, 'objectCreated': {'merchant_id': '67a7d8fd9683f20dd518bd78', 'medium': 'balance', 'purchase_date': '2024-06-19T15:42:45.791492', 'amount': 5, 'status': 'pending', 'description': 'electronics', 'type': 'merchant', 'payer_id': '67a7e8da9683f20dd518bdf2', '_id': '67a7eada9683f20dd518be43'}}\n",
      "{'message': 'Created purchase and added it to the account', 'code': 201, 'objectCreated': {'merchant_id': '67a7d8fd9683f20dd518bd78', 'medium': 'balance', 'purchase_date': '2024-05-12T06:21:56.748524', 'amount': 26, 'status': 'pending', 'description': 'food', 'type': 'merchant', 'payer_id': '67a7e8da9683f20dd518bdf2', '_id': '67a7eada9683f20dd518be44'}}\n",
      "{'message': 'Created purchase and added it to the account', 'code': 201, 'objectCreated': {'merchant_id': '67a7d8fd9683f20dd518bd78', 'medium': 'balance', 'purchase_date': '2024-08-09T07:20:09.716634', 'amount': 48, 'status': 'pending', 'description': 'clothing', 'type': 'merchant', 'payer_id': '67a7e8da9683f20dd518bdf2', '_id': '67a7eada9683f20dd518be45'}}\n",
      "{'message': 'Created purchase and added it to the account', 'code': 201, 'objectCreated': {'merchant_id': '67a7d8fd9683f20dd518bd78', 'medium': 'balance', 'purchase_date': '2024-10-04T16:38:24.153633', 'amount': 23, 'status': 'pending', 'description': 'electronics', 'type': 'merchant', 'payer_id': '67a7e8da9683f20dd518bdf2', '_id': '67a7eada9683f20dd518be46'}}\n",
      "{'message': 'Created purchase and added it to the account', 'code': 201, 'objectCreated': {'merchant_id': '67a7d8fd9683f20dd518bd78', 'medium': 'balance', 'purchase_date': '2024-09-07T10:45:23.945597', 'amount': 34, 'status': 'pending', 'description': 'food', 'type': 'merchant', 'payer_id': '67a7e8da9683f20dd518bdf2', '_id': '67a7eada9683f20dd518be47'}}\n",
      "{'message': 'Created purchase and added it to the account', 'code': 201, 'objectCreated': {'merchant_id': '67a7d8fd9683f20dd518bd78', 'medium': 'balance', 'purchase_date': '2024-12-15T16:57:09.764568', 'amount': 4, 'status': 'pending', 'description': 'food', 'type': 'merchant', 'payer_id': '67a7e8da9683f20dd518bdf2', '_id': '67a7eada9683f20dd518be48'}}\n",
      "{'message': 'Created purchase and added it to the account', 'code': 201, 'objectCreated': {'merchant_id': '67a7d8fd9683f20dd518bd78', 'medium': 'balance', 'purchase_date': '2024-03-21T07:55:57.020104', 'amount': 37, 'status': 'pending', 'description': 'shoes', 'type': 'merchant', 'payer_id': '67a7e8da9683f20dd518bdf2', '_id': '67a7eada9683f20dd518be49'}}\n",
      "{'message': 'Created purchase and added it to the account', 'code': 201, 'objectCreated': {'merchant_id': '67a7d8fd9683f20dd518bd78', 'medium': 'balance', 'purchase_date': '2025-01-14T19:25:28.806869', 'amount': 4, 'status': 'pending', 'description': 'shoes', 'type': 'merchant', 'payer_id': '67a7e8da9683f20dd518bdf2', '_id': '67a7eada9683f20dd518be4a'}}\n",
      "{'message': 'Created purchase and added it to the account', 'code': 201, 'objectCreated': {'merchant_id': '67a7d8fd9683f20dd518bd78', 'medium': 'balance', 'purchase_date': '2024-07-19T08:49:01.956527', 'amount': 30, 'status': 'pending', 'description': 'food', 'type': 'merchant', 'payer_id': '67a7e8da9683f20dd518bdf2', '_id': '67a7eadb9683f20dd518be4b'}}\n",
      "{'message': 'Created purchase and added it to the account', 'code': 201, 'objectCreated': {'merchant_id': '67a7d8fd9683f20dd518bd78', 'medium': 'balance', 'purchase_date': '2024-05-03T21:50:10.921207', 'amount': 20, 'status': 'pending', 'description': 'food', 'type': 'merchant', 'payer_id': '67a7e8da9683f20dd518bdf2', '_id': '67a7eadb9683f20dd518be4c'}}\n",
      "{'message': 'Created purchase and added it to the account', 'code': 201, 'objectCreated': {'merchant_id': '67a7d8fd9683f20dd518bd78', 'medium': 'balance', 'purchase_date': '2024-08-26T15:10:40.402689', 'amount': 23, 'status': 'pending', 'description': 'other', 'type': 'merchant', 'payer_id': '67a7e8da9683f20dd518bdf2', '_id': '67a7eadb9683f20dd518be4d'}}\n",
      "{'message': 'Created purchase and added it to the account', 'code': 201, 'objectCreated': {'merchant_id': '67a7d8fd9683f20dd518bd78', 'medium': 'balance', 'purchase_date': '2024-12-18T16:07:02.260361', 'amount': 33, 'status': 'pending', 'description': 'clothing', 'type': 'merchant', 'payer_id': '67a7e8da9683f20dd518bdf2', '_id': '67a7eadb9683f20dd518be4e'}}\n",
      "{'message': 'Created purchase and added it to the account', 'code': 201, 'objectCreated': {'merchant_id': '67a7d8fd9683f20dd518bd78', 'medium': 'balance', 'purchase_date': '2024-10-06T12:52:46.939924', 'amount': 49, 'status': 'pending', 'description': 'electronics', 'type': 'merchant', 'payer_id': '67a7e8da9683f20dd518bdf2', '_id': '67a7eadb9683f20dd518be4f'}}\n",
      "{'message': 'Created purchase and added it to the account', 'code': 201, 'objectCreated': {'merchant_id': '67a7d8fd9683f20dd518bd78', 'medium': 'balance', 'purchase_date': '2024-09-05T16:16:48.178722', 'amount': 30, 'status': 'pending', 'description': 'other', 'type': 'merchant', 'payer_id': '67a7e8da9683f20dd518bdf2', '_id': '67a7eadb9683f20dd518be50'}}\n",
      "{'message': 'Created purchase and added it to the account', 'code': 201, 'objectCreated': {'merchant_id': '67a7d8fd9683f20dd518bd78', 'medium': 'balance', 'purchase_date': '2024-12-01T00:18:49.747795', 'amount': 2, 'status': 'pending', 'description': 'other', 'type': 'merchant', 'payer_id': '67a7e8da9683f20dd518bdf2', '_id': '67a7eadb9683f20dd518be51'}}\n",
      "{'message': 'Created purchase and added it to the account', 'code': 201, 'objectCreated': {'merchant_id': '67a7d8fd9683f20dd518bd78', 'medium': 'balance', 'purchase_date': '2025-01-08T12:14:10.303864', 'amount': 23, 'status': 'pending', 'description': 'electronics', 'type': 'merchant', 'payer_id': '67a7e8da9683f20dd518bdf2', '_id': '67a7eadb9683f20dd518be52'}}\n",
      "{'message': 'Created purchase and added it to the account', 'code': 201, 'objectCreated': {'merchant_id': '67a7d8fd9683f20dd518bd78', 'medium': 'balance', 'purchase_date': '2024-10-17T17:20:04.471369', 'amount': 16, 'status': 'pending', 'description': 'shoes', 'type': 'merchant', 'payer_id': '67a7e8da9683f20dd518bdf2', '_id': '67a7eadb9683f20dd518be53'}}\n",
      "{'message': 'Created purchase and added it to the account', 'code': 201, 'objectCreated': {'merchant_id': '67a7d8fd9683f20dd518bd78', 'medium': 'balance', 'purchase_date': '2024-05-17T00:15:16.873116', 'amount': 6, 'status': 'pending', 'description': 'clothing', 'type': 'merchant', 'payer_id': '67a7e8da9683f20dd518bdf2', '_id': '67a7eadb9683f20dd518be54'}}\n",
      "{'message': 'Created purchase and added it to the account', 'code': 201, 'objectCreated': {'merchant_id': '67a7d8fd9683f20dd518bd78', 'medium': 'balance', 'purchase_date': '2024-07-10T21:29:51.936252', 'amount': 36, 'status': 'pending', 'description': 'other', 'type': 'merchant', 'payer_id': '67a7e8da9683f20dd518bdf2', '_id': '67a7eadb9683f20dd518be55'}}\n",
      "{'message': 'Created purchase and added it to the account', 'code': 201, 'objectCreated': {'merchant_id': '67a7d8fd9683f20dd518bd78', 'medium': 'balance', 'purchase_date': '2024-11-30T04:03:38.419882', 'amount': 22, 'status': 'pending', 'description': 'clothing', 'type': 'merchant', 'payer_id': '67a7e8da9683f20dd518bdf2', '_id': '67a7eadb9683f20dd518be56'}}\n",
      "{'message': 'Created purchase and added it to the account', 'code': 201, 'objectCreated': {'merchant_id': '67a7d8fd9683f20dd518bd78', 'medium': 'balance', 'purchase_date': '2024-09-15T18:11:54.071932', 'amount': 3, 'status': 'pending', 'description': 'shoes', 'type': 'merchant', 'payer_id': '67a7e8da9683f20dd518bdf2', '_id': '67a7eadb9683f20dd518be57'}}\n",
      "{'message': 'Created purchase and added it to the account', 'code': 201, 'objectCreated': {'merchant_id': '67a7d8fd9683f20dd518bd78', 'medium': 'balance', 'purchase_date': '2024-02-10T01:36:36.180149', 'amount': 23, 'status': 'pending', 'description': 'electronics', 'type': 'merchant', 'payer_id': '67a7e8da9683f20dd518bdf2', '_id': '67a7eadb9683f20dd518be58'}}\n",
      "{'message': 'Created purchase and added it to the account', 'code': 201, 'objectCreated': {'merchant_id': '67a7d8fd9683f20dd518bd78', 'medium': 'balance', 'purchase_date': '2024-06-07T20:26:35.610974', 'amount': 23, 'status': 'pending', 'description': 'other', 'type': 'merchant', 'payer_id': '67a7e8da9683f20dd518bdf2', '_id': '67a7eadb9683f20dd518be59'}}\n"
     ]
    }
   ],
   "source": [
    "import datetime\n",
    "merchant_id = \"67a7d8fd9683f20dd518bd78\"\n",
    "account_id = \"67a7e8da9683f20dd518bdf2\"\n",
    "\n",
    "def make_purchases(account_id, merchant_id, amount, body):\n",
    "    make_purchase_url = \"http://api.nessieisreal.com/accounts/{}/purchases?key={}\".format(account_id, API_KEY)\n",
    "    # BODY in this format\n",
    "    # body = {\n",
    "    #     \"merchant_id\": merchant_id,\n",
    "    #     \"medium\": \"balance\",\n",
    "    #     \"purchase_date\": datetime.now().isoformat(),\n",
    "    #     \"amount\": amount,\n",
    "    #     \"status\": \"pending\",\n",
    "    #     \"description\": \"test\" # necessary for categorization of purchase\n",
    "    # }\n",
    "    # body['purchase_date'] = datetime.now().isoformat()\n",
    "    body['amount'] = amount\n",
    "    body['merchant_id'] = merchant_id\n",
    "    response = requests.post(make_purchase_url,\n",
    "                             json=body,\n",
    "                            )\n",
    "    # print(body['purchase_date'])\n",
    "    return response.json()\n",
    "\n",
    "for i in range(1000):\n",
    "    amount = random.randint(1, 50)\n",
    "\n",
    "    now = datetime.datetime.now()\n",
    "    year_ago = now - datetime.timedelta(days=365)\n",
    "\n",
    "    random_timestamp = random.uniform(year_ago.timestamp(), now.timestamp())\n",
    "    random_datetime = datetime.datetime.fromtimestamp(random_timestamp)\n",
    "\n",
    "    # print(random_datetime)\n",
    "\n",
    "    random_purchase_date = fake.date_time_between(start_date=\"-1y\", end_date=\"now\", tzinfo=None).isoformat()\n",
    "\n",
    "    transaction = {\n",
    "        \"merchant_id\": merchant_id,\n",
    "        \"medium\": \"balance\",\n",
    "        \"purchase_date\": random_purchase_date,\n",
    "        \"amount\": amount,\n",
    "        \"status\": \"completed\",\n",
    "        \"description\": random.choice([\"food\", \"shoes\", \"clothing\", \"electronics\", \"entertainment\", \"other\"]),\n",
    "    }\n",
    "    print(make_purchases(account_id,merchant_id, amount, transaction))\n"
   ]
  },
  {
   "cell_type": "code",
   "execution_count": 51,
   "metadata": {},
   "outputs": [
    {
     "name": "stdout",
     "output_type": "stream",
     "text": [
      "2024-04-21 15:02:28.433593\n"
     ]
    }
   ],
   "source": [
    "now = datetime.datetime.now()\n",
    "year_ago = now - datetime.timedelta(days=365)\n",
    "\n",
    "random_timestamp = random.uniform(year_ago.timestamp(), now.timestamp())\n",
    "random_datetime = datetime.datetime.fromtimestamp(random_timestamp)\n",
    "\n",
    "print(random_datetime)"
   ]
  },
  {
   "cell_type": "code",
   "execution_count": 49,
   "metadata": {},
   "outputs": [
    {
     "data": {
      "text/plain": [
       "'2025-02-08T18:02:54.486550'"
      ]
     },
     "execution_count": 49,
     "metadata": {},
     "output_type": "execute_result"
    }
   ],
   "source": [
    "datetime.datetime.now().isoformat()"
   ]
  },
  {
   "cell_type": "code",
   "execution_count": null,
   "metadata": {},
   "outputs": [],
   "source": []
  }
 ],
 "metadata": {
  "kernelspec": {
   "display_name": "hack_env",
   "language": "python",
   "name": "python3"
  },
  "language_info": {
   "codemirror_mode": {
    "name": "ipython",
    "version": 3
   },
   "file_extension": ".py",
   "mimetype": "text/x-python",
   "name": "python",
   "nbconvert_exporter": "python",
   "pygments_lexer": "ipython3",
   "version": "3.9.20"
  }
 },
 "nbformat": 4,
 "nbformat_minor": 2
}
